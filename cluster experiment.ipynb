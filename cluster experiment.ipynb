{
 "cells": [
  {
   "cell_type": "code",
   "execution_count": 26,
   "metadata": {},
   "outputs": [
    {
     "data": {
      "text/html": [
       "\n",
       "    <div class=\"bk-root\">\n",
       "        <a href=\"https://bokeh.pydata.org\" target=\"_blank\" class=\"bk-logo bk-logo-small bk-logo-notebook\"></a>\n",
       "        <span id=\"2256\">Loading BokehJS ...</span>\n",
       "    </div>"
      ]
     },
     "metadata": {},
     "output_type": "display_data"
    },
    {
     "data": {
      "application/javascript": [
       "\n",
       "(function(root) {\n",
       "  function now() {\n",
       "    return new Date();\n",
       "  }\n",
       "\n",
       "  var force = true;\n",
       "\n",
       "  if (typeof root._bokeh_onload_callbacks === \"undefined\" || force === true) {\n",
       "    root._bokeh_onload_callbacks = [];\n",
       "    root._bokeh_is_loading = undefined;\n",
       "  }\n",
       "\n",
       "  var JS_MIME_TYPE = 'application/javascript';\n",
       "  var HTML_MIME_TYPE = 'text/html';\n",
       "  var EXEC_MIME_TYPE = 'application/vnd.bokehjs_exec.v0+json';\n",
       "  var CLASS_NAME = 'output_bokeh rendered_html';\n",
       "\n",
       "  /**\n",
       "   * Render data to the DOM node\n",
       "   */\n",
       "  function render(props, node) {\n",
       "    var script = document.createElement(\"script\");\n",
       "    node.appendChild(script);\n",
       "  }\n",
       "\n",
       "  /**\n",
       "   * Handle when an output is cleared or removed\n",
       "   */\n",
       "  function handleClearOutput(event, handle) {\n",
       "    var cell = handle.cell;\n",
       "\n",
       "    var id = cell.output_area._bokeh_element_id;\n",
       "    var server_id = cell.output_area._bokeh_server_id;\n",
       "    // Clean up Bokeh references\n",
       "    if (id != null && id in Bokeh.index) {\n",
       "      Bokeh.index[id].model.document.clear();\n",
       "      delete Bokeh.index[id];\n",
       "    }\n",
       "\n",
       "    if (server_id !== undefined) {\n",
       "      // Clean up Bokeh references\n",
       "      var cmd = \"from bokeh.io.state import curstate; print(curstate().uuid_to_server['\" + server_id + \"'].get_sessions()[0].document.roots[0]._id)\";\n",
       "      cell.notebook.kernel.execute(cmd, {\n",
       "        iopub: {\n",
       "          output: function(msg) {\n",
       "            var id = msg.content.text.trim();\n",
       "            if (id in Bokeh.index) {\n",
       "              Bokeh.index[id].model.document.clear();\n",
       "              delete Bokeh.index[id];\n",
       "            }\n",
       "          }\n",
       "        }\n",
       "      });\n",
       "      // Destroy server and session\n",
       "      var cmd = \"import bokeh.io.notebook as ion; ion.destroy_server('\" + server_id + \"')\";\n",
       "      cell.notebook.kernel.execute(cmd);\n",
       "    }\n",
       "  }\n",
       "\n",
       "  /**\n",
       "   * Handle when a new output is added\n",
       "   */\n",
       "  function handleAddOutput(event, handle) {\n",
       "    var output_area = handle.output_area;\n",
       "    var output = handle.output;\n",
       "\n",
       "    // limit handleAddOutput to display_data with EXEC_MIME_TYPE content only\n",
       "    if ((output.output_type != \"display_data\") || (!output.data.hasOwnProperty(EXEC_MIME_TYPE))) {\n",
       "      return\n",
       "    }\n",
       "\n",
       "    var toinsert = output_area.element.find(\".\" + CLASS_NAME.split(' ')[0]);\n",
       "\n",
       "    if (output.metadata[EXEC_MIME_TYPE][\"id\"] !== undefined) {\n",
       "      toinsert[toinsert.length - 1].firstChild.textContent = output.data[JS_MIME_TYPE];\n",
       "      // store reference to embed id on output_area\n",
       "      output_area._bokeh_element_id = output.metadata[EXEC_MIME_TYPE][\"id\"];\n",
       "    }\n",
       "    if (output.metadata[EXEC_MIME_TYPE][\"server_id\"] !== undefined) {\n",
       "      var bk_div = document.createElement(\"div\");\n",
       "      bk_div.innerHTML = output.data[HTML_MIME_TYPE];\n",
       "      var script_attrs = bk_div.children[0].attributes;\n",
       "      for (var i = 0; i < script_attrs.length; i++) {\n",
       "        toinsert[toinsert.length - 1].firstChild.setAttribute(script_attrs[i].name, script_attrs[i].value);\n",
       "      }\n",
       "      // store reference to server id on output_area\n",
       "      output_area._bokeh_server_id = output.metadata[EXEC_MIME_TYPE][\"server_id\"];\n",
       "    }\n",
       "  }\n",
       "\n",
       "  function register_renderer(events, OutputArea) {\n",
       "\n",
       "    function append_mime(data, metadata, element) {\n",
       "      // create a DOM node to render to\n",
       "      var toinsert = this.create_output_subarea(\n",
       "        metadata,\n",
       "        CLASS_NAME,\n",
       "        EXEC_MIME_TYPE\n",
       "      );\n",
       "      this.keyboard_manager.register_events(toinsert);\n",
       "      // Render to node\n",
       "      var props = {data: data, metadata: metadata[EXEC_MIME_TYPE]};\n",
       "      render(props, toinsert[toinsert.length - 1]);\n",
       "      element.append(toinsert);\n",
       "      return toinsert\n",
       "    }\n",
       "\n",
       "    /* Handle when an output is cleared or removed */\n",
       "    events.on('clear_output.CodeCell', handleClearOutput);\n",
       "    events.on('delete.Cell', handleClearOutput);\n",
       "\n",
       "    /* Handle when a new output is added */\n",
       "    events.on('output_added.OutputArea', handleAddOutput);\n",
       "\n",
       "    /**\n",
       "     * Register the mime type and append_mime function with output_area\n",
       "     */\n",
       "    OutputArea.prototype.register_mime_type(EXEC_MIME_TYPE, append_mime, {\n",
       "      /* Is output safe? */\n",
       "      safe: true,\n",
       "      /* Index of renderer in `output_area.display_order` */\n",
       "      index: 0\n",
       "    });\n",
       "  }\n",
       "\n",
       "  // register the mime type if in Jupyter Notebook environment and previously unregistered\n",
       "  if (root.Jupyter !== undefined) {\n",
       "    var events = require('base/js/events');\n",
       "    var OutputArea = require('notebook/js/outputarea').OutputArea;\n",
       "\n",
       "    if (OutputArea.prototype.mime_types().indexOf(EXEC_MIME_TYPE) == -1) {\n",
       "      register_renderer(events, OutputArea);\n",
       "    }\n",
       "  }\n",
       "\n",
       "  \n",
       "  if (typeof (root._bokeh_timeout) === \"undefined\" || force === true) {\n",
       "    root._bokeh_timeout = Date.now() + 5000;\n",
       "    root._bokeh_failed_load = false;\n",
       "  }\n",
       "\n",
       "  var NB_LOAD_WARNING = {'data': {'text/html':\n",
       "     \"<div style='background-color: #fdd'>\\n\"+\n",
       "     \"<p>\\n\"+\n",
       "     \"BokehJS does not appear to have successfully loaded. If loading BokehJS from CDN, this \\n\"+\n",
       "     \"may be due to a slow or bad network connection. Possible fixes:\\n\"+\n",
       "     \"</p>\\n\"+\n",
       "     \"<ul>\\n\"+\n",
       "     \"<li>re-rerun `output_notebook()` to attempt to load from CDN again, or</li>\\n\"+\n",
       "     \"<li>use INLINE resources instead, as so:</li>\\n\"+\n",
       "     \"</ul>\\n\"+\n",
       "     \"<code>\\n\"+\n",
       "     \"from bokeh.resources import INLINE\\n\"+\n",
       "     \"output_notebook(resources=INLINE)\\n\"+\n",
       "     \"</code>\\n\"+\n",
       "     \"</div>\"}};\n",
       "\n",
       "  function display_loaded() {\n",
       "    var el = document.getElementById(\"2256\");\n",
       "    if (el != null) {\n",
       "      el.textContent = \"BokehJS is loading...\";\n",
       "    }\n",
       "    if (root.Bokeh !== undefined) {\n",
       "      if (el != null) {\n",
       "        el.textContent = \"BokehJS \" + root.Bokeh.version + \" successfully loaded.\";\n",
       "      }\n",
       "    } else if (Date.now() < root._bokeh_timeout) {\n",
       "      setTimeout(display_loaded, 100)\n",
       "    }\n",
       "  }\n",
       "\n",
       "\n",
       "  function run_callbacks() {\n",
       "    try {\n",
       "      root._bokeh_onload_callbacks.forEach(function(callback) {\n",
       "        if (callback != null)\n",
       "          callback();\n",
       "      });\n",
       "    } finally {\n",
       "      delete root._bokeh_onload_callbacks\n",
       "    }\n",
       "    console.debug(\"Bokeh: all callbacks have finished\");\n",
       "  }\n",
       "\n",
       "  function load_libs(css_urls, js_urls, callback) {\n",
       "    if (css_urls == null) css_urls = [];\n",
       "    if (js_urls == null) js_urls = [];\n",
       "\n",
       "    root._bokeh_onload_callbacks.push(callback);\n",
       "    if (root._bokeh_is_loading > 0) {\n",
       "      console.debug(\"Bokeh: BokehJS is being loaded, scheduling callback at\", now());\n",
       "      return null;\n",
       "    }\n",
       "    if (js_urls == null || js_urls.length === 0) {\n",
       "      run_callbacks();\n",
       "      return null;\n",
       "    }\n",
       "    console.debug(\"Bokeh: BokehJS not loaded, scheduling load and callback at\", now());\n",
       "    root._bokeh_is_loading = css_urls.length + js_urls.length;\n",
       "\n",
       "    function on_load() {\n",
       "      root._bokeh_is_loading--;\n",
       "      if (root._bokeh_is_loading === 0) {\n",
       "        console.debug(\"Bokeh: all BokehJS libraries/stylesheets loaded\");\n",
       "        run_callbacks()\n",
       "      }\n",
       "    }\n",
       "\n",
       "    function on_error() {\n",
       "      console.error(\"failed to load \" + url);\n",
       "    }\n",
       "\n",
       "    for (var i = 0; i < css_urls.length; i++) {\n",
       "      var url = css_urls[i];\n",
       "      const element = document.createElement(\"link\");\n",
       "      element.onload = on_load;\n",
       "      element.onerror = on_error;\n",
       "      element.rel = \"stylesheet\";\n",
       "      element.type = \"text/css\";\n",
       "      element.href = url;\n",
       "      console.debug(\"Bokeh: injecting link tag for BokehJS stylesheet: \", url);\n",
       "      document.body.appendChild(element);\n",
       "    }\n",
       "\n",
       "    for (var i = 0; i < js_urls.length; i++) {\n",
       "      var url = js_urls[i];\n",
       "      var element = document.createElement('script');\n",
       "      element.onload = on_load;\n",
       "      element.onerror = on_error;\n",
       "      element.async = false;\n",
       "      element.src = url;\n",
       "      console.debug(\"Bokeh: injecting script tag for BokehJS library: \", url);\n",
       "      document.head.appendChild(element);\n",
       "    }\n",
       "  };var element = document.getElementById(\"2256\");\n",
       "  if (element == null) {\n",
       "    console.error(\"Bokeh: ERROR: autoload.js configured with elementid '2256' but no matching script tag was found. \")\n",
       "    return false;\n",
       "  }\n",
       "\n",
       "  function inject_raw_css(css) {\n",
       "    const element = document.createElement(\"style\");\n",
       "    element.appendChild(document.createTextNode(css));\n",
       "    document.body.appendChild(element);\n",
       "  }\n",
       "\n",
       "  var js_urls = [\"https://cdn.pydata.org/bokeh/release/bokeh-1.1.0.min.js\", \"https://cdn.pydata.org/bokeh/release/bokeh-widgets-1.1.0.min.js\", \"https://cdn.pydata.org/bokeh/release/bokeh-tables-1.1.0.min.js\", \"https://cdn.pydata.org/bokeh/release/bokeh-gl-1.1.0.min.js\"];\n",
       "  var css_urls = [\"https://cdn.pydata.org/bokeh/release/bokeh-1.1.0.min.css\", \"https://cdn.pydata.org/bokeh/release/bokeh-widgets-1.1.0.min.css\", \"https://cdn.pydata.org/bokeh/release/bokeh-tables-1.1.0.min.css\"];\n",
       "\n",
       "  var inline_js = [\n",
       "    function(Bokeh) {\n",
       "      Bokeh.set_log_level(\"info\");\n",
       "    },\n",
       "    \n",
       "    function(Bokeh) {\n",
       "      \n",
       "    },\n",
       "    function(Bokeh) {} // ensure no trailing comma for IE\n",
       "  ];\n",
       "\n",
       "  function run_inline_js() {\n",
       "    \n",
       "    if ((root.Bokeh !== undefined) || (force === true)) {\n",
       "      for (var i = 0; i < inline_js.length; i++) {\n",
       "        inline_js[i].call(root, root.Bokeh);\n",
       "      }if (force === true) {\n",
       "        display_loaded();\n",
       "      }} else if (Date.now() < root._bokeh_timeout) {\n",
       "      setTimeout(run_inline_js, 100);\n",
       "    } else if (!root._bokeh_failed_load) {\n",
       "      console.log(\"Bokeh: BokehJS failed to load within specified timeout.\");\n",
       "      root._bokeh_failed_load = true;\n",
       "    } else if (force !== true) {\n",
       "      var cell = $(document.getElementById(\"2256\")).parents('.cell').data().cell;\n",
       "      cell.output_area.append_execute_result(NB_LOAD_WARNING)\n",
       "    }\n",
       "\n",
       "  }\n",
       "\n",
       "  if (root._bokeh_is_loading === 0) {\n",
       "    console.debug(\"Bokeh: BokehJS loaded, going straight to plotting\");\n",
       "    run_inline_js();\n",
       "  } else {\n",
       "    load_libs(css_urls, js_urls, function() {\n",
       "      console.debug(\"Bokeh: BokehJS plotting callback run at\", now());\n",
       "      run_inline_js();\n",
       "    });\n",
       "  }\n",
       "}(window));"
      ],
      "application/vnd.bokehjs_load.v0+json": "\n(function(root) {\n  function now() {\n    return new Date();\n  }\n\n  var force = true;\n\n  if (typeof root._bokeh_onload_callbacks === \"undefined\" || force === true) {\n    root._bokeh_onload_callbacks = [];\n    root._bokeh_is_loading = undefined;\n  }\n\n  \n\n  \n  if (typeof (root._bokeh_timeout) === \"undefined\" || force === true) {\n    root._bokeh_timeout = Date.now() + 5000;\n    root._bokeh_failed_load = false;\n  }\n\n  var NB_LOAD_WARNING = {'data': {'text/html':\n     \"<div style='background-color: #fdd'>\\n\"+\n     \"<p>\\n\"+\n     \"BokehJS does not appear to have successfully loaded. If loading BokehJS from CDN, this \\n\"+\n     \"may be due to a slow or bad network connection. Possible fixes:\\n\"+\n     \"</p>\\n\"+\n     \"<ul>\\n\"+\n     \"<li>re-rerun `output_notebook()` to attempt to load from CDN again, or</li>\\n\"+\n     \"<li>use INLINE resources instead, as so:</li>\\n\"+\n     \"</ul>\\n\"+\n     \"<code>\\n\"+\n     \"from bokeh.resources import INLINE\\n\"+\n     \"output_notebook(resources=INLINE)\\n\"+\n     \"</code>\\n\"+\n     \"</div>\"}};\n\n  function display_loaded() {\n    var el = document.getElementById(\"2256\");\n    if (el != null) {\n      el.textContent = \"BokehJS is loading...\";\n    }\n    if (root.Bokeh !== undefined) {\n      if (el != null) {\n        el.textContent = \"BokehJS \" + root.Bokeh.version + \" successfully loaded.\";\n      }\n    } else if (Date.now() < root._bokeh_timeout) {\n      setTimeout(display_loaded, 100)\n    }\n  }\n\n\n  function run_callbacks() {\n    try {\n      root._bokeh_onload_callbacks.forEach(function(callback) {\n        if (callback != null)\n          callback();\n      });\n    } finally {\n      delete root._bokeh_onload_callbacks\n    }\n    console.debug(\"Bokeh: all callbacks have finished\");\n  }\n\n  function load_libs(css_urls, js_urls, callback) {\n    if (css_urls == null) css_urls = [];\n    if (js_urls == null) js_urls = [];\n\n    root._bokeh_onload_callbacks.push(callback);\n    if (root._bokeh_is_loading > 0) {\n      console.debug(\"Bokeh: BokehJS is being loaded, scheduling callback at\", now());\n      return null;\n    }\n    if (js_urls == null || js_urls.length === 0) {\n      run_callbacks();\n      return null;\n    }\n    console.debug(\"Bokeh: BokehJS not loaded, scheduling load and callback at\", now());\n    root._bokeh_is_loading = css_urls.length + js_urls.length;\n\n    function on_load() {\n      root._bokeh_is_loading--;\n      if (root._bokeh_is_loading === 0) {\n        console.debug(\"Bokeh: all BokehJS libraries/stylesheets loaded\");\n        run_callbacks()\n      }\n    }\n\n    function on_error() {\n      console.error(\"failed to load \" + url);\n    }\n\n    for (var i = 0; i < css_urls.length; i++) {\n      var url = css_urls[i];\n      const element = document.createElement(\"link\");\n      element.onload = on_load;\n      element.onerror = on_error;\n      element.rel = \"stylesheet\";\n      element.type = \"text/css\";\n      element.href = url;\n      console.debug(\"Bokeh: injecting link tag for BokehJS stylesheet: \", url);\n      document.body.appendChild(element);\n    }\n\n    for (var i = 0; i < js_urls.length; i++) {\n      var url = js_urls[i];\n      var element = document.createElement('script');\n      element.onload = on_load;\n      element.onerror = on_error;\n      element.async = false;\n      element.src = url;\n      console.debug(\"Bokeh: injecting script tag for BokehJS library: \", url);\n      document.head.appendChild(element);\n    }\n  };var element = document.getElementById(\"2256\");\n  if (element == null) {\n    console.error(\"Bokeh: ERROR: autoload.js configured with elementid '2256' but no matching script tag was found. \")\n    return false;\n  }\n\n  function inject_raw_css(css) {\n    const element = document.createElement(\"style\");\n    element.appendChild(document.createTextNode(css));\n    document.body.appendChild(element);\n  }\n\n  var js_urls = [\"https://cdn.pydata.org/bokeh/release/bokeh-1.1.0.min.js\", \"https://cdn.pydata.org/bokeh/release/bokeh-widgets-1.1.0.min.js\", \"https://cdn.pydata.org/bokeh/release/bokeh-tables-1.1.0.min.js\", \"https://cdn.pydata.org/bokeh/release/bokeh-gl-1.1.0.min.js\"];\n  var css_urls = [\"https://cdn.pydata.org/bokeh/release/bokeh-1.1.0.min.css\", \"https://cdn.pydata.org/bokeh/release/bokeh-widgets-1.1.0.min.css\", \"https://cdn.pydata.org/bokeh/release/bokeh-tables-1.1.0.min.css\"];\n\n  var inline_js = [\n    function(Bokeh) {\n      Bokeh.set_log_level(\"info\");\n    },\n    \n    function(Bokeh) {\n      \n    },\n    function(Bokeh) {} // ensure no trailing comma for IE\n  ];\n\n  function run_inline_js() {\n    \n    if ((root.Bokeh !== undefined) || (force === true)) {\n      for (var i = 0; i < inline_js.length; i++) {\n        inline_js[i].call(root, root.Bokeh);\n      }if (force === true) {\n        display_loaded();\n      }} else if (Date.now() < root._bokeh_timeout) {\n      setTimeout(run_inline_js, 100);\n    } else if (!root._bokeh_failed_load) {\n      console.log(\"Bokeh: BokehJS failed to load within specified timeout.\");\n      root._bokeh_failed_load = true;\n    } else if (force !== true) {\n      var cell = $(document.getElementById(\"2256\")).parents('.cell').data().cell;\n      cell.output_area.append_execute_result(NB_LOAD_WARNING)\n    }\n\n  }\n\n  if (root._bokeh_is_loading === 0) {\n    console.debug(\"Bokeh: BokehJS loaded, going straight to plotting\");\n    run_inline_js();\n  } else {\n    load_libs(css_urls, js_urls, function() {\n      console.debug(\"Bokeh: BokehJS plotting callback run at\", now());\n      run_inline_js();\n    });\n  }\n}(window));"
     },
     "metadata": {},
     "output_type": "display_data"
    }
   ],
   "source": [
    "from sklearn.datasets import make_blobs\n",
    "from sklearn.cluster import KMeans\n",
    "from sklearn.manifold import TSNE\n",
    "\n",
    "import bokeh\n",
    "from bokeh.plotting import figure, output_file, show\n",
    "from bokeh.io import output_notebook\n",
    "from bokeh.models import CategoricalColorMapper, HoverTool\n",
    "from bokeh.palettes import Dark2_5 as palette_alpha\n",
    "\n",
    "import pandas as pd\n",
    "import numpy as np\n",
    "\n",
    "output_notebook()\n",
    "%matplotlib inline"
   ]
  },
  {
   "cell_type": "code",
   "execution_count": 12,
   "metadata": {},
   "outputs": [],
   "source": [
    "features, cluster = make_blobs(n_samples=300, n_features=2)"
   ]
  },
  {
   "cell_type": "code",
   "execution_count": 13,
   "metadata": {},
   "outputs": [
    {
     "data": {
      "text/html": [
       "\n",
       "\n",
       "\n",
       "\n",
       "\n",
       "\n",
       "  <div class=\"bk-root\" id=\"d4bfebca-0e26-4c0a-94df-cca7d6bcd421\" data-root-id=\"1217\"></div>\n"
      ]
     },
     "metadata": {},
     "output_type": "display_data"
    },
    {
     "data": {
      "application/javascript": [
       "(function(root) {\n",
       "  function embed_document(root) {\n",
       "    \n",
       "  var docs_json = {\"633308e9-6ac8-4baa-8640-db095797cf90\":{\"roots\":{\"references\":[{\"attributes\":{\"below\":[{\"id\":\"1226\",\"type\":\"LinearAxis\"}],\"center\":[{\"id\":\"1230\",\"type\":\"Grid\"},{\"id\":\"1235\",\"type\":\"Grid\"}],\"left\":[{\"id\":\"1231\",\"type\":\"LinearAxis\"}],\"plot_height\":400,\"plot_width\":400,\"renderers\":[{\"id\":\"1252\",\"type\":\"GlyphRenderer\"}],\"title\":{\"id\":\"1272\",\"type\":\"Title\"},\"toolbar\":{\"id\":\"1242\",\"type\":\"Toolbar\"},\"x_range\":{\"id\":\"1218\",\"type\":\"DataRange1d\"},\"x_scale\":{\"id\":\"1222\",\"type\":\"LinearScale\"},\"y_range\":{\"id\":\"1220\",\"type\":\"DataRange1d\"},\"y_scale\":{\"id\":\"1224\",\"type\":\"LinearScale\"}},\"id\":\"1217\",\"subtype\":\"Figure\",\"type\":\"Plot\"},{\"attributes\":{\"dimension\":1,\"ticker\":{\"id\":\"1232\",\"type\":\"BasicTicker\"}},\"id\":\"1235\",\"type\":\"Grid\"},{\"attributes\":{\"data_source\":{\"id\":\"1249\",\"type\":\"ColumnDataSource\"},\"glyph\":{\"id\":\"1250\",\"type\":\"Circle\"},\"hover_glyph\":null,\"muted_glyph\":null,\"nonselection_glyph\":{\"id\":\"1251\",\"type\":\"Circle\"},\"selection_glyph\":null,\"view\":{\"id\":\"1253\",\"type\":\"CDSView\"}},\"id\":\"1252\",\"type\":\"GlyphRenderer\"},{\"attributes\":{\"fill_alpha\":{\"value\":0.5},\"fill_color\":{\"value\":\"navy\"},\"line_alpha\":{\"value\":0.5},\"line_color\":{\"value\":\"navy\"},\"size\":{\"units\":\"screen\",\"value\":20},\"x\":{\"field\":\"x\"},\"y\":{\"field\":\"y\"}},\"id\":\"1250\",\"type\":\"Circle\"},{\"attributes\":{},\"id\":\"1277\",\"type\":\"BasicTickFormatter\"},{\"attributes\":{},\"id\":\"1236\",\"type\":\"PanTool\"},{\"attributes\":{\"fill_alpha\":{\"value\":0.1},\"fill_color\":{\"value\":\"#1f77b4\"},\"line_alpha\":{\"value\":0.1},\"line_color\":{\"value\":\"#1f77b4\"},\"size\":{\"units\":\"screen\",\"value\":20},\"x\":{\"field\":\"x\"},\"y\":{\"field\":\"y\"}},\"id\":\"1251\",\"type\":\"Circle\"},{\"attributes\":{},\"id\":\"1275\",\"type\":\"BasicTickFormatter\"},{\"attributes\":{},\"id\":\"1278\",\"type\":\"Selection\"},{\"attributes\":{\"active_drag\":\"auto\",\"active_inspect\":\"auto\",\"active_multi\":null,\"active_scroll\":\"auto\",\"active_tap\":\"auto\",\"tools\":[{\"id\":\"1236\",\"type\":\"PanTool\"},{\"id\":\"1237\",\"type\":\"WheelZoomTool\"},{\"id\":\"1238\",\"type\":\"BoxZoomTool\"},{\"id\":\"1239\",\"type\":\"SaveTool\"},{\"id\":\"1240\",\"type\":\"ResetTool\"},{\"id\":\"1241\",\"type\":\"HelpTool\"}]},\"id\":\"1242\",\"type\":\"Toolbar\"},{\"attributes\":{\"callback\":null,\"data\":{\"x\":{\"__ndarray__\":\"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\",\"dtype\":\"float64\",\"shape\":[300]},\"y\":{\"__ndarray__\":\"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\",\"dtype\":\"float64\",\"shape\":[300]}},\"selected\":{\"id\":\"1278\",\"type\":\"Selection\"},\"selection_policy\":{\"id\":\"1279\",\"type\":\"UnionRenderers\"}},\"id\":\"1249\",\"type\":\"ColumnDataSource\"},{\"attributes\":{\"callback\":null},\"id\":\"1218\",\"type\":\"DataRange1d\"},{\"attributes\":{\"overlay\":{\"id\":\"1280\",\"type\":\"BoxAnnotation\"}},\"id\":\"1238\",\"type\":\"BoxZoomTool\"},{\"attributes\":{},\"id\":\"1240\",\"type\":\"ResetTool\"},{\"attributes\":{},\"id\":\"1232\",\"type\":\"BasicTicker\"},{\"attributes\":{},\"id\":\"1237\",\"type\":\"WheelZoomTool\"},{\"attributes\":{},\"id\":\"1279\",\"type\":\"UnionRenderers\"},{\"attributes\":{\"formatter\":{\"id\":\"1277\",\"type\":\"BasicTickFormatter\"},\"ticker\":{\"id\":\"1232\",\"type\":\"BasicTicker\"}},\"id\":\"1231\",\"type\":\"LinearAxis\"},{\"attributes\":{\"callback\":null},\"id\":\"1220\",\"type\":\"DataRange1d\"},{\"attributes\":{\"source\":{\"id\":\"1249\",\"type\":\"ColumnDataSource\"}},\"id\":\"1253\",\"type\":\"CDSView\"},{\"attributes\":{\"text\":\"\"},\"id\":\"1272\",\"type\":\"Title\"},{\"attributes\":{},\"id\":\"1222\",\"type\":\"LinearScale\"},{\"attributes\":{},\"id\":\"1224\",\"type\":\"LinearScale\"},{\"attributes\":{\"bottom_units\":\"screen\",\"fill_alpha\":{\"value\":0.5},\"fill_color\":{\"value\":\"lightgrey\"},\"left_units\":\"screen\",\"level\":\"overlay\",\"line_alpha\":{\"value\":1.0},\"line_color\":{\"value\":\"black\"},\"line_dash\":[4,4],\"line_width\":{\"value\":2},\"render_mode\":\"css\",\"right_units\":\"screen\",\"top_units\":\"screen\"},\"id\":\"1280\",\"type\":\"BoxAnnotation\"},{\"attributes\":{},\"id\":\"1227\",\"type\":\"BasicTicker\"},{\"attributes\":{},\"id\":\"1239\",\"type\":\"SaveTool\"},{\"attributes\":{\"formatter\":{\"id\":\"1275\",\"type\":\"BasicTickFormatter\"},\"ticker\":{\"id\":\"1227\",\"type\":\"BasicTicker\"}},\"id\":\"1226\",\"type\":\"LinearAxis\"},{\"attributes\":{},\"id\":\"1241\",\"type\":\"HelpTool\"},{\"attributes\":{\"ticker\":{\"id\":\"1227\",\"type\":\"BasicTicker\"}},\"id\":\"1230\",\"type\":\"Grid\"}],\"root_ids\":[\"1217\"]},\"title\":\"Bokeh Application\",\"version\":\"1.1.0\"}};\n",
       "  var render_items = [{\"docid\":\"633308e9-6ac8-4baa-8640-db095797cf90\",\"roots\":{\"1217\":\"d4bfebca-0e26-4c0a-94df-cca7d6bcd421\"}}];\n",
       "  root.Bokeh.embed.embed_items_notebook(docs_json, render_items);\n",
       "\n",
       "  }\n",
       "  if (root.Bokeh !== undefined) {\n",
       "    embed_document(root);\n",
       "  } else {\n",
       "    var attempts = 0;\n",
       "    var timer = setInterval(function(root) {\n",
       "      if (root.Bokeh !== undefined) {\n",
       "        embed_document(root);\n",
       "        clearInterval(timer);\n",
       "      }\n",
       "      attempts++;\n",
       "      if (attempts > 100) {\n",
       "        console.log(\"Bokeh: ERROR: Unable to run BokehJS code because BokehJS library is missing\");\n",
       "        clearInterval(timer);\n",
       "      }\n",
       "    }, 10, root)\n",
       "  }\n",
       "})(window);"
      ],
      "application/vnd.bokehjs_exec.v0+json": ""
     },
     "metadata": {
      "application/vnd.bokehjs_exec.v0+json": {
       "id": "1217"
      }
     },
     "output_type": "display_data"
    }
   ],
   "source": [
    "p = figure(plot_width=400, plot_height=400)\n",
    "\n",
    "# add a circle renderer with a size, color, and alpha\n",
    "p.circle(features[:, 0], features[:, 1], size=20, color=\"navy\", alpha=0.5)\n",
    "\n",
    "# show the results\n",
    "show(p)"
   ]
  },
  {
   "cell_type": "code",
   "execution_count": 23,
   "metadata": {},
   "outputs": [],
   "source": [
    "km = KMeans(n_clusters=5).fit(features)\n",
    "\n",
    "df = pd.DataFrame(features, columns=['x', 'y'])\n",
    "# Need to stringify, but only for bokeh (cannot accept integers for categorical labels!)\n",
    "df['cluster'] = [str(label) for label in km.predict(features)]"
   ]
  },
  {
   "cell_type": "code",
   "execution_count": 24,
   "metadata": {},
   "outputs": [
    {
     "data": {
      "text/html": [
       "\n",
       "\n",
       "\n",
       "\n",
       "\n",
       "\n",
       "  <div class=\"bk-root\" id=\"ff4a9982-c107-4230-ba33-78ef592eb4b0\" data-root-id=\"2081\"></div>\n"
      ]
     },
     "metadata": {},
     "output_type": "display_data"
    },
    {
     "data": {
      "application/javascript": [
       "(function(root) {\n",
       "  function embed_document(root) {\n",
       "    \n",
       "  var docs_json = {\"12d1be81-7a0e-4564-a745-0b3ba078ae14\":{\"roots\":{\"references\":[{\"attributes\":{\"below\":[{\"id\":\"2090\",\"type\":\"LinearAxis\"}],\"center\":[{\"id\":\"2094\",\"type\":\"Grid\"},{\"id\":\"2099\",\"type\":\"Grid\"}],\"left\":[{\"id\":\"2095\",\"type\":\"LinearAxis\"}],\"plot_height\":400,\"plot_width\":400,\"renderers\":[{\"id\":\"2119\",\"type\":\"GlyphRenderer\"}],\"title\":{\"id\":\"2193\",\"type\":\"Title\"},\"toolbar\":{\"id\":\"2106\",\"type\":\"Toolbar\"},\"x_range\":{\"id\":\"2082\",\"type\":\"DataRange1d\"},\"x_scale\":{\"id\":\"2086\",\"type\":\"LinearScale\"},\"y_range\":{\"id\":\"2084\",\"type\":\"DataRange1d\"},\"y_scale\":{\"id\":\"2088\",\"type\":\"LinearScale\"}},\"id\":\"2081\",\"subtype\":\"Figure\",\"type\":\"Plot\"},{\"attributes\":{},\"id\":\"2103\",\"type\":\"SaveTool\"},{\"attributes\":{\"factors\":[\"0\",\"3\",\"4\",\"2\",\"1\"],\"palette\":[\"#1b9e77\",\"#d95f02\",\"#7570b3\",\"#e7298a\",\"#66a61e\"]},\"id\":\"2080\",\"type\":\"CategoricalColorMapper\"},{\"attributes\":{},\"id\":\"2104\",\"type\":\"ResetTool\"},{\"attributes\":{\"callback\":null,\"tooltips\":[[\"x value\",\"@x\"],[\"y value\",\"@y\"],[\"cluster\",\"@cluster\"]]},\"id\":\"2113\",\"type\":\"HoverTool\"},{\"attributes\":{},\"id\":\"2105\",\"type\":\"HelpTool\"},{\"attributes\":{\"callback\":null},\"id\":\"2082\",\"type\":\"DataRange1d\"},{\"attributes\":{\"callback\":null},\"id\":\"2084\",\"type\":\"DataRange1d\"},{\"attributes\":{\"fill_alpha\":{\"value\":0.5},\"fill_color\":{\"field\":\"cluster\",\"transform\":{\"id\":\"2080\",\"type\":\"CategoricalColorMapper\"}},\"line_alpha\":{\"value\":0.5},\"line_color\":{\"field\":\"cluster\",\"transform\":{\"id\":\"2080\",\"type\":\"CategoricalColorMapper\"}},\"size\":{\"units\":\"screen\",\"value\":20},\"x\":{\"field\":\"x\"},\"y\":{\"field\":\"y\"}},\"id\":\"2117\",\"type\":\"Circle\"},{\"attributes\":{\"data_source\":{\"id\":\"2115\",\"type\":\"ColumnDataSource\"},\"glyph\":{\"id\":\"2117\",\"type\":\"Circle\"},\"hover_glyph\":null,\"muted_glyph\":null,\"nonselection_glyph\":{\"id\":\"2118\",\"type\":\"Circle\"},\"selection_glyph\":null,\"view\":{\"id\":\"2120\",\"type\":\"CDSView\"}},\"id\":\"2119\",\"type\":\"GlyphRenderer\"},{\"attributes\":{},\"id\":\"2086\",\"type\":\"LinearScale\"},{\"attributes\":{\"fill_alpha\":{\"value\":0.1},\"fill_color\":{\"value\":\"#1f77b4\"},\"line_alpha\":{\"value\":0.1},\"line_color\":{\"value\":\"#1f77b4\"},\"size\":{\"units\":\"screen\",\"value\":20},\"x\":{\"field\":\"x\"},\"y\":{\"field\":\"y\"}},\"id\":\"2118\",\"type\":\"Circle\"},{\"attributes\":{},\"id\":\"2088\",\"type\":\"LinearScale\"},{\"attributes\":{\"formatter\":{\"id\":\"2196\",\"type\":\"BasicTickFormatter\"},\"ticker\":{\"id\":\"2091\",\"type\":\"BasicTicker\"}},\"id\":\"2090\",\"type\":\"LinearAxis\"},{\"attributes\":{\"source\":{\"id\":\"2115\",\"type\":\"ColumnDataSource\"}},\"id\":\"2120\",\"type\":\"CDSView\"},{\"attributes\":{},\"id\":\"2091\",\"type\":\"BasicTicker\"},{\"attributes\":{\"ticker\":{\"id\":\"2091\",\"type\":\"BasicTicker\"}},\"id\":\"2094\",\"type\":\"Grid\"},{\"attributes\":{},\"id\":\"2196\",\"type\":\"BasicTickFormatter\"},{\"attributes\":{\"formatter\":{\"id\":\"2198\",\"type\":\"BasicTickFormatter\"},\"ticker\":{\"id\":\"2096\",\"type\":\"BasicTicker\"}},\"id\":\"2095\",\"type\":\"LinearAxis\"},{\"attributes\":{},\"id\":\"2198\",\"type\":\"BasicTickFormatter\"},{\"attributes\":{},\"id\":\"2096\",\"type\":\"BasicTicker\"},{\"attributes\":{},\"id\":\"2199\",\"type\":\"Selection\"},{\"attributes\":{\"dimension\":1,\"ticker\":{\"id\":\"2096\",\"type\":\"BasicTicker\"}},\"id\":\"2099\",\"type\":\"Grid\"},{\"attributes\":{},\"id\":\"2200\",\"type\":\"UnionRenderers\"},{\"attributes\":{\"bottom_units\":\"screen\",\"fill_alpha\":{\"value\":0.5},\"fill_color\":{\"value\":\"lightgrey\"},\"left_units\":\"screen\",\"level\":\"overlay\",\"line_alpha\":{\"value\":1.0},\"line_color\":{\"value\":\"black\"},\"line_dash\":[4,4],\"line_width\":{\"value\":2},\"render_mode\":\"css\",\"right_units\":\"screen\",\"top_units\":\"screen\"},\"id\":\"2201\",\"type\":\"BoxAnnotation\"},{\"attributes\":{\"callback\":null,\"data\":{\"cluster\":[\"0\",\"3\",\"4\",\"2\",\"3\",\"0\",\"3\",\"2\",\"1\",\"1\",\"3\",\"2\",\"2\",\"4\",\"4\",\"3\",\"3\",\"0\",\"2\",\"2\",\"2\",\"2\",\"2\",\"3\",\"2\",\"2\",\"1\",\"1\",\"3\",\"2\",\"1\",\"1\",\"2\",\"4\",\"2\",\"3\",\"2\",\"3\",\"2\",\"1\",\"1\",\"3\",\"1\",\"3\",\"2\",\"2\",\"2\",\"0\",\"1\",\"4\",\"2\",\"2\",\"0\",\"4\",\"2\",\"1\",\"2\",\"1\",\"3\",\"2\",\"1\",\"2\",\"0\",\"2\",\"3\",\"2\",\"4\",\"3\",\"0\",\"1\",\"4\",\"3\",\"0\",\"1\",\"3\",\"3\",\"1\",\"1\",\"0\",\"1\",\"4\",\"2\",\"1\",\"2\",\"0\",\"3\",\"1\",\"3\",\"2\",\"4\",\"3\",\"4\",\"1\",\"0\",\"3\",\"3\",\"0\",\"2\",\"4\",\"0\",\"4\",\"4\",\"2\",\"0\",\"1\",\"1\",\"4\",\"2\",\"0\",\"0\",\"2\",\"3\",\"0\",\"0\",\"3\",\"2\",\"2\",\"3\",\"0\",\"1\",\"2\",\"1\",\"2\",\"0\",\"4\",\"3\",\"4\",\"3\",\"0\",\"3\",\"2\",\"3\",\"2\",\"3\",\"2\",\"2\",\"2\",\"2\",\"3\",\"2\",\"2\",\"0\",\"1\",\"1\",\"4\",\"3\",\"2\",\"1\",\"2\",\"4\",\"2\",\"3\",\"2\",\"0\",\"2\",\"2\",\"0\",\"4\",\"0\",\"1\",\"1\",\"0\",\"2\",\"4\",\"2\",\"1\",\"4\",\"0\",\"4\",\"2\",\"1\",\"1\",\"4\",\"2\",\"1\",\"1\",\"2\",\"0\",\"2\",\"3\",\"4\",\"1\",\"4\",\"4\",\"1\",\"4\",\"2\",\"3\",\"2\",\"1\",\"4\",\"3\",\"2\",\"2\",\"3\",\"2\",\"3\",\"0\",\"2\",\"3\",\"3\",\"3\",\"0\",\"0\",\"1\",\"1\",\"4\",\"1\",\"1\",\"3\",\"4\",\"3\",\"1\",\"0\",\"4\",\"0\",\"2\",\"2\",\"2\",\"3\",\"3\",\"1\",\"2\",\"1\",\"2\",\"0\",\"1\",\"3\",\"1\",\"4\",\"0\",\"2\",\"2\",\"2\",\"4\",\"2\",\"1\",\"2\",\"0\",\"4\",\"2\",\"4\",\"2\",\"2\",\"2\",\"4\",\"3\",\"1\",\"4\",\"2\",\"2\",\"2\",\"0\",\"3\",\"2\",\"2\",\"1\",\"2\",\"4\",\"2\",\"2\",\"2\",\"2\",\"2\",\"4\",\"1\",\"3\",\"1\",\"1\",\"2\",\"4\",\"3\",\"3\",\"1\",\"2\",\"1\",\"3\",\"3\",\"4\",\"2\",\"3\",\"2\",\"0\",\"4\",\"4\",\"2\",\"2\",\"4\",\"0\",\"3\",\"3\",\"2\",\"0\",\"2\",\"2\",\"3\",\"3\",\"2\",\"2\",\"3\"],\"index\":[0,1,2,3,4,5,6,7,8,9,10,11,12,13,14,15,16,17,18,19,20,21,22,23,24,25,26,27,28,29,30,31,32,33,34,35,36,37,38,39,40,41,42,43,44,45,46,47,48,49,50,51,52,53,54,55,56,57,58,59,60,61,62,63,64,65,66,67,68,69,70,71,72,73,74,75,76,77,78,79,80,81,82,83,84,85,86,87,88,89,90,91,92,93,94,95,96,97,98,99,100,101,102,103,104,105,106,107,108,109,110,111,112,113,114,115,116,117,118,119,120,121,122,123,124,125,126,127,128,129,130,131,132,133,134,135,136,137,138,139,140,141,142,143,144,145,146,147,148,149,150,151,152,153,154,155,156,157,158,159,160,161,162,163,164,165,166,167,168,169,170,171,172,173,174,175,176,177,178,179,180,181,182,183,184,185,186,187,188,189,190,191,192,193,194,195,196,197,198,199,200,201,202,203,204,205,206,207,208,209,210,211,212,213,214,215,216,217,218,219,220,221,222,223,224,225,226,227,228,229,230,231,232,233,234,235,236,237,238,239,240,241,242,243,244,245,246,247,248,249,250,251,252,253,254,255,256,257,258,259,260,261,262,263,264,265,266,267,268,269,270,271,272,273,274,275,276,277,278,279,280,281,282,283,284,285,286,287,288,289,290,291,292,293,294,295,296,297,298,299],\"x\":{\"__ndarray__\":\"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\",\"dtype\":\"float64\",\"shape\":[300]},\"y\":{\"__ndarray__\":\"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\",\"dtype\":\"float64\",\"shape\":[300]}},\"selected\":{\"id\":\"2199\",\"type\":\"Selection\"},\"selection_policy\":{\"id\":\"2200\",\"type\":\"UnionRenderers\"}},\"id\":\"2115\",\"type\":\"ColumnDataSource\"},{\"attributes\":{\"active_drag\":\"auto\",\"active_inspect\":\"auto\",\"active_multi\":null,\"active_scroll\":\"auto\",\"active_tap\":\"auto\",\"tools\":[{\"id\":\"2100\",\"type\":\"PanTool\"},{\"id\":\"2101\",\"type\":\"WheelZoomTool\"},{\"id\":\"2102\",\"type\":\"BoxZoomTool\"},{\"id\":\"2103\",\"type\":\"SaveTool\"},{\"id\":\"2104\",\"type\":\"ResetTool\"},{\"id\":\"2105\",\"type\":\"HelpTool\"},{\"id\":\"2113\",\"type\":\"HoverTool\"}]},\"id\":\"2106\",\"type\":\"Toolbar\"},{\"attributes\":{},\"id\":\"2100\",\"type\":\"PanTool\"},{\"attributes\":{},\"id\":\"2101\",\"type\":\"WheelZoomTool\"},{\"attributes\":{\"text\":\"\"},\"id\":\"2193\",\"type\":\"Title\"},{\"attributes\":{\"overlay\":{\"id\":\"2201\",\"type\":\"BoxAnnotation\"}},\"id\":\"2102\",\"type\":\"BoxZoomTool\"}],\"root_ids\":[\"2081\"]},\"title\":\"Bokeh Application\",\"version\":\"1.1.0\"}};\n",
       "  var render_items = [{\"docid\":\"12d1be81-7a0e-4564-a745-0b3ba078ae14\",\"roots\":{\"2081\":\"ff4a9982-c107-4230-ba33-78ef592eb4b0\"}}];\n",
       "  root.Bokeh.embed.embed_items_notebook(docs_json, render_items);\n",
       "\n",
       "  }\n",
       "  if (root.Bokeh !== undefined) {\n",
       "    embed_document(root);\n",
       "  } else {\n",
       "    var attempts = 0;\n",
       "    var timer = setInterval(function(root) {\n",
       "      if (root.Bokeh !== undefined) {\n",
       "        embed_document(root);\n",
       "        clearInterval(timer);\n",
       "      }\n",
       "      attempts++;\n",
       "      if (attempts > 100) {\n",
       "        console.log(\"Bokeh: ERROR: Unable to run BokehJS code because BokehJS library is missing\");\n",
       "        clearInterval(timer);\n",
       "      }\n",
       "    }, 10, root)\n",
       "  }\n",
       "})(window);"
      ],
      "application/vnd.bokehjs_exec.v0+json": ""
     },
     "metadata": {
      "application/vnd.bokehjs_exec.v0+json": {
       "id": "2081"
      }
     },
     "output_type": "display_data"
    }
   ],
   "source": [
    "tooltips = [\n",
    "    (\"x value\", \"@x\"),\n",
    "    (\"y value\", \"@y\"),\n",
    "    (\"cluster\", \"@cluster\")\n",
    "]\n",
    "\n",
    "\n",
    "color_mapper = CategoricalColorMapper(factors=df.cluster.unique(), \n",
    "                                      palette=palette_alpha)\n",
    "\n",
    "p = figure(plot_width=400, plot_height=400)\n",
    "\n",
    "p.add_tools(HoverTool(\n",
    "    tooltips=tooltips\n",
    "))\n",
    "\n",
    "# add a circle renderer with a size, color, and alpha\n",
    "p.circle(\"x\", \"y\", source=df, size=20, \n",
    "         color={\n",
    "             'field': 'cluster',\n",
    "             'transform': color_mapper\n",
    "         }, alpha=0.5)\n",
    "\n",
    "# show the results\n",
    "show(p)"
   ]
  },
  {
   "cell_type": "code",
   "execution_count": 9,
   "metadata": {},
   "outputs": [
    {
     "data": {
      "text/plain": [
       "['1', '0']"
      ]
     },
     "execution_count": 9,
     "metadata": {},
     "output_type": "execute_result"
    }
   ],
   "source": [
    "[str(c) for c in df.cluster.unique()]"
   ]
  },
  {
   "cell_type": "code",
   "execution_count": 16,
   "metadata": {},
   "outputs": [
    {
     "data": {
      "text/plain": [
       "array([1, 1, 0, 1, 1, 1, 1, 1, 0, 0, 1, 1, 1, 0, 0, 1, 1, 1, 1, 1, 1, 1,\n",
       "       1, 1, 1, 1, 0, 0, 1, 1, 0, 0, 1, 0, 1, 1, 1, 1, 1, 0, 0, 1, 0, 1,\n",
       "       1, 1, 1, 1, 0, 0, 1, 1, 1, 0, 1, 0, 1, 0, 1, 1, 0, 1, 1, 1, 1, 1,\n",
       "       0, 1, 1, 0, 0, 1, 1, 0, 1, 1, 0, 0, 1, 0, 0, 1, 0, 1, 1, 1, 0, 1,\n",
       "       1, 0, 1, 0, 0, 1, 1, 1, 1, 1, 0, 1, 0, 0, 1, 1, 0, 0, 0, 1, 1, 1,\n",
       "       1, 1, 1, 1, 1, 1, 1, 1, 1, 0, 1, 0, 1, 1, 0, 1, 0, 1, 1, 1, 1, 1,\n",
       "       1, 1, 1, 1, 1, 1, 1, 1, 1, 1, 0, 0, 0, 1, 1, 0, 1, 0, 1, 1, 1, 1,\n",
       "       1, 1, 1, 0, 1, 0, 0, 1, 1, 0, 1, 0, 0, 1, 0, 1, 0, 0, 0, 1, 0, 0,\n",
       "       1, 1, 1, 1, 0, 0, 0, 0, 0, 0, 1, 1, 1, 0, 0, 1, 1, 1, 1, 1, 1, 1,\n",
       "       1, 1, 1, 1, 1, 1, 0, 0, 0, 0, 0, 1, 0, 1, 0, 1, 0, 1, 1, 1, 1, 1,\n",
       "       1, 0, 1, 0, 1, 1, 0, 1, 0, 0, 1, 1, 1, 1, 0, 1, 0, 1, 1, 0, 1, 0,\n",
       "       1, 1, 1, 0, 1, 0, 0, 1, 1, 1, 1, 1, 1, 1, 0, 1, 0, 1, 1, 1, 1, 1,\n",
       "       0, 0, 1, 0, 0, 1, 0, 1, 1, 0, 1, 0, 1, 1, 0, 1, 1, 1, 1, 0, 0, 1,\n",
       "       1, 0, 1, 1, 1, 1, 1, 1, 1, 1, 1, 1, 1, 1], dtype=int32)"
      ]
     },
     "execution_count": 16,
     "metadata": {},
     "output_type": "execute_result"
    }
   ],
   "source": [
    "km.predict(features)"
   ]
  },
  {
   "cell_type": "code",
   "execution_count": 63,
   "metadata": {},
   "outputs": [],
   "source": [
    "def bootstrap_cluster(df, n):\n",
    "    X = df.sample(frac=1.0, replace=True)\n",
    "    km = KMeans(n_clusters=n).fit(X)\n",
    "    cluster_series = pd.Series(km.labels_, X.index)\n",
    "    return cluster_series.loc[~cluster_series.index.duplicated(keep='first')]"
   ]
  },
  {
   "cell_type": "code",
   "execution_count": 66,
   "metadata": {},
   "outputs": [
    {
     "data": {
      "text/plain": [
       "186    2\n",
       "154    2\n",
       "3      2\n",
       "82     0\n",
       "152    2\n",
       "22     2\n",
       "57     0\n",
       "141    1\n",
       "130    2\n",
       "288    1\n",
       "31     0\n",
       "117    1\n",
       "200    1\n",
       "49     0\n",
       "270    0\n",
       "36     2\n",
       "114    1\n",
       "6      1\n",
       "13     0\n",
       "64     1\n",
       "83     2\n",
       "85     1\n",
       "29     2\n",
       "26     0\n",
       "7      2\n",
       "183    0\n",
       "177    1\n",
       "40     0\n",
       "151    1\n",
       "176    2\n",
       "      ..\n",
       "0      1\n",
       "25     2\n",
       "67     1\n",
       "251    2\n",
       "28     1\n",
       "285    2\n",
       "105    0\n",
       "231    2\n",
       "101    0\n",
       "201    1\n",
       "227    1\n",
       "169    2\n",
       "282    1\n",
       "206    0\n",
       "295    1\n",
       "65     2\n",
       "108    1\n",
       "54     2\n",
       "210    0\n",
       "102    2\n",
       "292    1\n",
       "17     1\n",
       "276    1\n",
       "170    0\n",
       "293    2\n",
       "48     0\n",
       "100    0\n",
       "261    2\n",
       "225    1\n",
       "172    0\n",
       "Length: 199, dtype: int32"
      ]
     },
     "execution_count": 66,
     "metadata": {},
     "output_type": "execute_result"
    }
   ],
   "source": [
    "bootstrap_cluster(df.drop('cluster', axis=1), 3)"
   ]
  },
  {
   "cell_type": "code",
   "execution_count": 54,
   "metadata": {},
   "outputs": [],
   "source": [
    "d1 = pd.Series([1,1,0,1])\n",
    "d2 = pd.Series([0,1,1,1], index=[0,2,3,1])\n"
   ]
  },
  {
   "cell_type": "code",
   "execution_count": 62,
   "metadata": {},
   "outputs": [
    {
     "data": {
      "text/plain": [
       "284    1\n",
       "37     0\n",
       "241    1\n",
       "96     0\n",
       "226    1\n",
       "100    1\n",
       "234    1\n",
       "280    0\n",
       "136    2\n",
       "118    0\n",
       "43     0\n",
       "271    0\n",
       "245    1\n",
       "14     1\n",
       "196    0\n",
       "22     2\n",
       "199    0\n",
       "279    2\n",
       "254    2\n",
       "244    2\n",
       "242    2\n",
       "16     0\n",
       "261    2\n",
       "74     0\n",
       "144    1\n",
       "104    1\n",
       "79     1\n",
       "166    1\n",
       "2      1\n",
       "164    2\n",
       "      ..\n",
       "182    1\n",
       "124    1\n",
       "120    2\n",
       "239    1\n",
       "66     1\n",
       "293    2\n",
       "95     0\n",
       "63     2\n",
       "220    0\n",
       "165    1\n",
       "256    1\n",
       "9      1\n",
       "42     1\n",
       "267    1\n",
       "75     0\n",
       "294    2\n",
       "143    1\n",
       "273    1\n",
       "115    2\n",
       "25     2\n",
       "53     1\n",
       "56     2\n",
       "4      0\n",
       "172    1\n",
       "276    0\n",
       "177    0\n",
       "91     1\n",
       "184    1\n",
       "183    1\n",
       "51     2\n",
       "Length: 196, dtype: int32"
      ]
     },
     "execution_count": 62,
     "metadata": {},
     "output_type": "execute_result"
    }
   ],
   "source": [
    "df3 = pd.Series(clusters, index)\n",
    "df3 = df3.loc[~df3.index.duplicated(keep='first')]\n",
    "df3"
   ]
  },
  {
   "cell_type": "code",
   "execution_count": 51,
   "metadata": {},
   "outputs": [
    {
     "data": {
      "text/plain": [
       "0    0\n",
       "2    1\n",
       "3    1\n",
       "1    1\n",
       "dtype: int64"
      ]
     },
     "execution_count": 51,
     "metadata": {},
     "output_type": "execute_result"
    }
   ],
   "source": [
    "d2"
   ]
  },
  {
   "cell_type": "code",
   "execution_count": 52,
   "metadata": {},
   "outputs": [
    {
     "data": {
      "text/plain": [
       "0    False\n",
       "1     True\n",
       "2    False\n",
       "3     True\n",
       "dtype: bool"
      ]
     },
     "execution_count": 52,
     "metadata": {},
     "output_type": "execute_result"
    }
   ],
   "source": [
    "d1 & d2"
   ]
  },
  {
   "cell_type": "markdown",
   "metadata": {},
   "source": [
    "Better idea: return the clusters created by the bootstrap method, then predict on _everything_!"
   ]
  },
  {
   "cell_type": "code",
   "execution_count": null,
   "metadata": {},
   "outputs": [],
   "source": []
  }
 ],
 "metadata": {
  "kernelspec": {
   "display_name": "metis",
   "language": "python",
   "name": "metis"
  },
  "language_info": {
   "codemirror_mode": {
    "name": "ipython",
    "version": 3
   },
   "file_extension": ".py",
   "mimetype": "text/x-python",
   "name": "python",
   "nbconvert_exporter": "python",
   "pygments_lexer": "ipython3",
   "version": "3.6.8"
  }
 },
 "nbformat": 4,
 "nbformat_minor": 2
}
